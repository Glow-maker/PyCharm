{
 "cells": [
  {
   "cell_type": "markdown",
   "metadata": {},
   "source": [
    "# 推理逻辑数据集实战指南 (Practical Guide to Reasoning Datasets)\n",
    "\n",
    "本notebook展示如何加载和使用各种推理逻辑数据集来训练模型。\n",
    "\n",
    "## 环境准备"
   ]
  },
  {
   "cell_type": "code",
   "execution_count": null,
   "metadata": {},
   "outputs": [],
   "source": [
    "# 安装必要的库\n",
    "# !pip install datasets transformers torch pandas numpy\n",
    "\n",
    "import warnings\n",
    "warnings.filterwarnings('ignore')\n",
    "\n",
    "from datasets import load_dataset, concatenate_datasets\n",
    "import pandas as pd\n",
    "import json"
   ]
  },
  {
   "cell_type": "markdown",
   "metadata": {},
   "source": [
    "## 1. 数学推理数据集\n",
    "\n",
    "### GSM8K - 小学数学应用题"
   ]
  },
  {
   "cell_type": "code",
   "execution_count": null,
   "metadata": {},
   "outputs": [],
   "source": [
    "# 加载GSM8K数据集\n",
    "gsm8k = load_dataset(\"gsm8k\", \"main\")\n",
    "\n",
    "# 查看数据集结构\n",
    "print(\"数据集结构:\", gsm8k)\n",
    "print(\"\\n训练集大小:\", len(gsm8k[\"train\"]))\n",
    "print(\"测试集大小:\", len(gsm8k[\"test\"]))\n",
    "\n",
    "# 查看第一个样本\n",
    "example = gsm8k[\"train\"][0]\n",
    "print(\"\\n示例问题:\")\n",
    "print(example[\"question\"])\n",
    "print(\"\\n答案和推理步骤:\")\n",
    "print(example[\"answer\"])"
   ]
  },
  {
   "cell_type": "markdown",
   "metadata": {},
   "source": [
    "### MATH Dataset - 数学竞赛题"
   ]
  },
  {
   "cell_type": "code",
   "execution_count": null,
   "metadata": {},
   "outputs": [],
   "source": [
    "# 加载MATH数据集\n",
    "math_dataset = load_dataset(\"competition_math\")\n",
    "\n",
    "# 查看数据集结构\n",
    "print(\"数据集结构:\", math_dataset)\n",
    "\n",
    "# 查看一个样本\n",
    "example = math_dataset[\"train\"][0]\n",
    "print(\"\\n问题:\", example[\"problem\"])\n",
    "print(\"\\n难度级别:\", example[\"level\"])\n",
    "print(\"\\n问题类型:\", example[\"type\"])\n",
    "print(\"\\n解答:\", example[\"solution\"][:200], \"...\")  # 只显示前200个字符"
   ]
  },
  {
   "cell_type": "markdown",
   "metadata": {},
   "source": [
    "### MathQA - 带操作程序的数学题"
   ]
  },
  {
   "cell_type": "code",
   "execution_count": null,
   "metadata": {},
   "outputs": [],
   "source": [
    "# 加载MathQA数据集\n",
    "mathqa = load_dataset(\"math_qa\")\n",
    "\n",
    "# 查看样本\n",
    "example = mathqa[\"train\"][0]\n",
    "print(\"问题:\", example[\"Problem\"])\n",
    "print(\"\\n推理程序:\", example[\"Rationale\"])\n",
    "print(\"\\n选项:\", example[\"options\"])\n",
    "print(\"\\n正确答案:\", example[\"correct\"])"
   ]
  },
  {
   "cell_type": "markdown",
   "metadata": {},
   "source": [
    "## 2. 逻辑推理数据集\n",
    "\n",
    "### LogiQA - 逻辑推理"
   ]
  },
  {
   "cell_type": "code",
   "execution_count": null,
   "metadata": {},
   "outputs": [],
   "source": [
    "# 加载LogiQA数据集\n",
    "logiqa = load_dataset(\"logiqa\")\n",
    "\n",
    "# 查看样本\n",
    "example = logiqa[\"train\"][0]\n",
    "print(\"上下文:\", example[\"context\"])\n",
    "print(\"\\n问题:\", example[\"query\"])\n",
    "print(\"\\n选项:\")\n",
    "for i, option in enumerate(example[\"options\"]):\n",
    "    print(f\"  {chr(65+i)}: {option}\")\n",
    "print(\"\\n正确答案:\", chr(65 + example[\"correct_option\"]))"
   ]
  },
  {
   "cell_type": "markdown",
   "metadata": {},
   "source": [
    "### ProofWriter - 形式化逻辑证明"
   ]
  },
  {
   "cell_type": "code",
   "execution_count": null,
   "metadata": {},
   "outputs": [],
   "source": [
    "# 加载ProofWriter数据集\n",
    "proofwriter = load_dataset(\"allenai/proofwriter\")\n",
    "\n",
    "# 查看样本\n",
    "example = proofwriter[\"train\"][0]\n",
    "print(\"理论/前提:\")\n",
    "print(example[\"theory\"])\n",
    "print(\"\\n问题:\", example[\"question\"])\n",
    "print(\"\\n答案:\", example[\"answer\"])\n",
    "if \"proof\" in example:\n",
    "    print(\"\\n证明过程:\", example[\"proof\"])"
   ]
  },
  {
   "cell_type": "markdown",
   "metadata": {},
   "source": [
    "## 3. 常识推理数据集\n",
    "\n",
    "### CommonsenseQA"
   ]
  },
  {
   "cell_type": "code",
   "execution_count": null,
   "metadata": {},
   "outputs": [],
   "source": [
    "# 加载CommonsenseQA数据集\n",
    "commonsenseqa = load_dataset(\"commonsense_qa\")\n",
    "\n",
    "# 查看样本\n",
    "example = commonsenseqa[\"train\"][0]\n",
    "print(\"问题:\", example[\"question\"])\n",
    "print(\"\\n选项:\")\n",
    "for label, text in zip(example[\"choices\"][\"label\"], example[\"choices\"][\"text\"]):\n",
    "    print(f\"  {label}: {text}\")\n",
    "print(\"\\n正确答案:\", example[\"answerKey\"])"
   ]
  },
  {
   "cell_type": "markdown",
   "metadata": {},
   "source": [
    "### PIQA - 物理常识推理"
   ]
  },
  {
   "cell_type": "code",
   "execution_count": null,
   "metadata": {},
   "outputs": [],
   "source": [
    "# 加载PIQA数据集\n",
    "piqa = load_dataset(\"piqa\")\n",
    "\n",
    "# 查看样本\n",
    "example = piqa[\"train\"][0]\n",
    "print(\"目标/问题:\", example[\"goal\"])\n",
    "print(\"\\n选项A:\", example[\"sol1\"])\n",
    "print(\"选项B:\", example[\"sol2\"])\n",
    "print(\"\\n正确答案:\", \"A\" if example[\"label\"] == 0 else \"B\")"
   ]
  },
  {
   "cell_type": "markdown",
   "metadata": {},
   "source": [
    "## 4. 综合推理数据集\n",
    "\n",
    "### ARC (AI2 Reasoning Challenge)"
   ]
  },
  {
   "cell_type": "code",
   "execution_count": null,
   "metadata": {},
   "outputs": [],
   "source": [
    "# 加载ARC-Challenge数据集\n",
    "arc_challenge = load_dataset(\"ai2_arc\", \"ARC-Challenge\")\n",
    "\n",
    "# 查看样本\n",
    "example = arc_challenge[\"train\"][0]\n",
    "print(\"问题:\", example[\"question\"])\n",
    "print(\"\\n选项:\")\n",
    "for label, text in zip(example[\"choices\"][\"label\"], example[\"choices\"][\"text\"]):\n",
    "    print(f\"  {label}: {text}\")\n",
    "print(\"\\n正确答案:\", example[\"answerKey\"])"
   ]
  },
  {
   "cell_type": "markdown",
   "metadata": {},
   "source": [
    "### OpenBookQA"
   ]
  },
  {
   "cell_type": "code",
   "execution_count": null,
   "metadata": {},
   "outputs": [],
   "source": [
    "# 加载OpenBookQA数据集\n",
    "openbookqa = load_dataset(\"openbookqa\", \"main\")\n",
    "\n",
    "# 查看样本\n",
    "example = openbookqa[\"train\"][0]\n",
    "print(\"问题干:\", example[\"question_stem\"])\n",
    "print(\"\\n选项:\")\n",
    "for label, text in zip(example[\"choices\"][\"label\"], example[\"choices\"][\"text\"]):\n",
    "    print(f\"  {label}: {text}\")\n",
    "print(\"\\n正确答案:\", example[\"answerKey\"])"
   ]
  },
  {
   "cell_type": "markdown",
   "metadata": {},
   "source": [
    "## 5. 代码推理数据集\n",
    "\n",
    "### HumanEval - Python编程"
   ]
  },
  {
   "cell_type": "code",
   "execution_count": null,
   "metadata": {},
   "outputs": [],
   "source": [
    "# 加载HumanEval数据集\n",
    "humaneval = load_dataset(\"openai_humaneval\")\n",
    "\n",
    "# 查看样本\n",
    "example = humaneval[\"test\"][0]\n",
    "print(\"任务ID:\", example[\"task_id\"])\n",
    "print(\"\\n函数签名和文档:\")\n",
    "print(example[\"prompt\"])\n",
    "print(\"\\n测试用例:\")\n",
    "print(example[\"test\"][:200], \"...\")  # 只显示部分测试用例"
   ]
  },
  {
   "cell_type": "markdown",
   "metadata": {},
   "source": [
    "### MBPP - Python基础编程"
   ]
  },
  {
   "cell_type": "code",
   "execution_count": null,
   "metadata": {},
   "outputs": [],
   "source": [
    "# 加载MBPP数据集\n",
    "mbpp = load_dataset(\"mbpp\")\n",
    "\n",
    "# 查看样本\n",
    "example = mbpp[\"train\"][0]\n",
    "print(\"任务ID:\", example[\"task_id\"])\n",
    "print(\"\\n问题描述:\", example[\"text\"])\n",
    "print(\"\\n测试用例:\")\n",
    "for test in example[\"test_list\"]:\n",
    "    print(f\"  {test}\")\n",
    "print(\"\\n参考代码:\")\n",
    "print(example[\"code\"])"
   ]
  },
  {
   "cell_type": "markdown",
   "metadata": {},
   "source": [
    "## 6. 思维链(Chain-of-Thought)数据集\n",
    "\n",
    "### MetaMathQA"
   ]
  },
  {
   "cell_type": "code",
   "execution_count": null,
   "metadata": {},
   "outputs": [],
   "source": [
    "# 加载MetaMathQA数据集\n",
    "metamath = load_dataset(\"meta-math/MetaMathQA\")\n",
    "\n",
    "# 查看样本\n",
    "example = metamath[\"train\"][0]\n",
    "print(\"问题:\", example[\"query\"])\n",
    "print(\"\\n完整推理过程:\")\n",
    "print(example[\"response\"])"
   ]
  },
  {
   "cell_type": "markdown",
   "metadata": {},
   "source": [
    "## 7. 数据预处理示例\n",
    "\n",
    "### 统一格式化多个数据集"
   ]
  },
  {
   "cell_type": "code",
   "execution_count": null,
   "metadata": {},
   "outputs": [],
   "source": [
    "def format_gsm8k(example):\n",
    "    \"\"\"格式化GSM8K数据\"\"\"\n",
    "    return {\n",
    "        \"instruction\": \"Solve the following math problem step by step.\",\n",
    "        \"input\": example[\"question\"],\n",
    "        \"output\": example[\"answer\"],\n",
    "        \"dataset\": \"gsm8k\"\n",
    "    }\n",
    "\n",
    "def format_commonsenseqa(example):\n",
    "    \"\"\"格式化CommonsenseQA数据\"\"\"\n",
    "    choices = \"\\n\".join([\n",
    "        f\"{label}: {text}\" \n",
    "        for label, text in zip(example[\"choices\"][\"label\"], example[\"choices\"][\"text\"])\n",
    "    ])\n",
    "    return {\n",
    "        \"instruction\": \"Answer the following question by selecting the correct option.\",\n",
    "        \"input\": f\"{example['question']}\\n\\nOptions:\\n{choices}\",\n",
    "        \"output\": example[\"answerKey\"],\n",
    "        \"dataset\": \"commonsenseqa\"\n",
    "    }\n",
    "\n",
    "def format_arc(example):\n",
    "    \"\"\"格式化ARC数据\"\"\"\n",
    "    choices = \"\\n\".join([\n",
    "        f\"{label}: {text}\" \n",
    "        for label, text in zip(example[\"choices\"][\"label\"], example[\"choices\"][\"text\"])\n",
    "    ])\n",
    "    return {\n",
    "        \"instruction\": \"Answer the following science question.\",\n",
    "        \"input\": f\"{example['question']}\\n\\nOptions:\\n{choices}\",\n",
    "        \"output\": example[\"answerKey\"],\n",
    "        \"dataset\": \"arc\"\n",
    "    }\n",
    "\n",
    "# 应用格式化\n",
    "print(\"格式化示例:\")\n",
    "print(\"\\n=== GSM8K ===\")\n",
    "formatted_gsm8k = format_gsm8k(gsm8k[\"train\"][0])\n",
    "print(json.dumps(formatted_gsm8k, indent=2, ensure_ascii=False))"
   ]
  },
  {
   "cell_type": "markdown",
   "metadata": {},
   "source": [
    "### 创建混合训练数据集"
   ]
  },
  {
   "cell_type": "code",
   "execution_count": null,
   "metadata": {},
   "outputs": [],
   "source": [
    "# 示例：混合多个数据集\n",
    "def create_mixed_dataset(sample_sizes=None):\n",
    "    \"\"\"创建混合数据集\n",
    "    \n",
    "    Args:\n",
    "        sample_sizes: dict，指定每个数据集的样本数量\n",
    "    \"\"\"\n",
    "    if sample_sizes is None:\n",
    "        sample_sizes = {\n",
    "            \"gsm8k\": 1000,\n",
    "            \"commonsenseqa\": 1000,\n",
    "            \"arc\": 1000\n",
    "        }\n",
    "    \n",
    "    datasets_list = []\n",
    "    \n",
    "    # 加载并格式化GSM8K\n",
    "    gsm8k_data = load_dataset(\"gsm8k\", \"main\", split=\"train\")\n",
    "    gsm8k_formatted = gsm8k_data.select(range(min(sample_sizes[\"gsm8k\"], len(gsm8k_data))))\n",
    "    gsm8k_formatted = gsm8k_formatted.map(format_gsm8k)\n",
    "    datasets_list.append(gsm8k_formatted)\n",
    "    \n",
    "    # 加载并格式化CommonsenseQA\n",
    "    cqa_data = load_dataset(\"commonsense_qa\", split=\"train\")\n",
    "    cqa_formatted = cqa_data.select(range(min(sample_sizes[\"commonsenseqa\"], len(cqa_data))))\n",
    "    cqa_formatted = cqa_formatted.map(format_commonsenseqa)\n",
    "    datasets_list.append(cqa_formatted)\n",
    "    \n",
    "    # 加载并格式化ARC\n",
    "    arc_data = load_dataset(\"ai2_arc\", \"ARC-Challenge\", split=\"train\")\n",
    "    arc_formatted = arc_data.select(range(min(sample_sizes[\"arc\"], len(arc_data))))\n",
    "    arc_formatted = arc_formatted.map(format_arc)\n",
    "    datasets_list.append(arc_formatted)\n",
    "    \n",
    "    # 合并数据集\n",
    "    mixed_dataset = concatenate_datasets(datasets_list)\n",
    "    \n",
    "    # 打乱数据\n",
    "    mixed_dataset = mixed_dataset.shuffle(seed=42)\n",
    "    \n",
    "    return mixed_dataset\n",
    "\n",
    "# 创建混合数据集\n",
    "print(\"创建混合数据集...\")\n",
    "# mixed = create_mixed_dataset()\n",
    "# print(f\"混合数据集大小: {len(mixed)}\")\n",
    "print(\"（取消注释上面两行以实际创建数据集）\")"
   ]
  },
  {
   "cell_type": "markdown",
   "metadata": {},
   "source": [
    "## 8. 数据统计分析"
   ]
  },
  {
   "cell_type": "code",
   "execution_count": null,
   "metadata": {},
   "outputs": [],
   "source": [
    "def analyze_dataset(dataset, name, text_field=\"question\"):\n",
    "    \"\"\"分析数据集基本统计信息\"\"\"\n",
    "    print(f\"\\n=== {name} 数据集分析 ===\")\n",
    "    print(f\"样本总数: {len(dataset)}\")\n",
    "    \n",
    "    # 文本长度统计\n",
    "    if text_field in dataset.column_names:\n",
    "        lengths = [len(item[text_field].split()) for item in dataset]\n",
    "        print(f\"平均文本长度: {sum(lengths)/len(lengths):.2f} 词\")\n",
    "        print(f\"最短文本: {min(lengths)} 词\")\n",
    "        print(f\"最长文本: {max(lengths)} 词\")\n",
    "    \n",
    "    # 字段列表\n",
    "    print(f\"数据字段: {dataset.column_names}\")\n",
    "\n",
    "# 示例分析\n",
    "# analyze_dataset(gsm8k[\"train\"], \"GSM8K\", \"question\")\n",
    "# analyze_dataset(commonsenseqa[\"train\"], \"CommonsenseQA\", \"question\")"
   ]
  },
  {
   "cell_type": "markdown",
   "metadata": {},
   "source": [
    "## 9. 训练数据准备\n",
    "\n",
    "### 为微调准备数据"
   ]
  },
  {
   "cell_type": "code",
   "execution_count": null,
   "metadata": {},
   "outputs": [],
   "source": [
    "def prepare_for_training(dataset, format_fn, output_file=\"training_data.jsonl\"):\n",
    "    \"\"\"准备用于训练的数据\n",
    "    \n",
    "    Args:\n",
    "        dataset: 原始数据集\n",
    "        format_fn: 格式化函数\n",
    "        output_file: 输出文件路径\n",
    "    \"\"\"\n",
    "    formatted_data = []\n",
    "    \n",
    "    for item in dataset:\n",
    "        formatted_item = format_fn(item)\n",
    "        formatted_data.append(formatted_item)\n",
    "    \n",
    "    # 保存为JSONL格式\n",
    "    with open(output_file, 'w', encoding='utf-8') as f:\n",
    "        for item in formatted_data:\n",
    "            f.write(json.dumps(item, ensure_ascii=False) + '\\n')\n",
    "    \n",
    "    print(f\"已保存 {len(formatted_data)} 条数据到 {output_file}\")\n",
    "    return formatted_data\n",
    "\n",
    "# 示例使用\n",
    "print(\"数据准备完成！\")\n",
    "print(\"\\n使用示例:\")\n",
    "print(\"formatted_data = prepare_for_training(gsm8k['train'], format_gsm8k, 'gsm8k_train.jsonl')\")"
   ]
  },
  {
   "cell_type": "markdown",
   "metadata": {},
   "source": [
    "## 10. 提示工程(Prompt Engineering)示例"
   ]
  },
  {
   "cell_type": "code",
   "execution_count": null,
   "metadata": {},
   "outputs": [],
   "source": [
    "# Chain-of-Thought提示模板\n",
    "cot_template = \"\"\"Question: {question}\n",
    "\n",
    "Let's solve this step by step:\n",
    "\n",
    "{reasoning_steps}\n",
    "\n",
    "Therefore, the answer is: {answer}\n",
    "\"\"\"\n",
    "\n",
    "# Few-shot提示模板\n",
    "few_shot_template = \"\"\"Here are some examples:\n",
    "\n",
    "Example 1:\n",
    "Q: {example1_q}\n",
    "A: {example1_a}\n",
    "\n",
    "Example 2:\n",
    "Q: {example2_q}\n",
    "A: {example2_a}\n",
    "\n",
    "Now solve this:\n",
    "Q: {question}\n",
    "A: \n",
    "\"\"\"\n",
    "\n",
    "# 自洽性(Self-Consistency)提示\n",
    "self_consistency_template = \"\"\"Solve the following problem in multiple ways and verify your answer:\n",
    "\n",
    "Problem: {question}\n",
    "\n",
    "Method 1:\n",
    "{method1}\n",
    "\n",
    "Method 2:\n",
    "{method2}\n",
    "\n",
    "Consistent answer: {answer}\n",
    "\"\"\"\n",
    "\n",
    "print(\"提示工程模板已定义！\")\n",
    "print(\"\\n可用模板:\")\n",
    "print(\"1. cot_template - 思维链提示\")\n",
    "print(\"2. few_shot_template - Few-shot学习提示\")\n",
    "print(\"3. self_consistency_template - 自洽性提示\")"
   ]
  },
  {
   "cell_type": "markdown",
   "metadata": {},
   "source": [
    "## 总结\n",
    "\n",
    "本notebook展示了如何:\n",
    "1. 加载各种推理数据集\n",
    "2. 查看数据集结构和样本\n",
    "3. 格式化和预处理数据\n",
    "4. 创建混合训练数据集\n",
    "5. 准备用于模型训练的数据\n",
    "6. 应用不同的提示工程技术\n",
    "\n",
    "### 下一步建议:\n",
    "1. 根据你的具体任务选择合适的数据集\n",
    "2. 实验不同的数据混合比例\n",
    "3. 尝试不同的提示工程技术\n",
    "4. 使用这些数据集微调你的模型\n",
    "5. 在测试集上评估模型性能\n",
    "\n",
    "### 参考资源:\n",
    "- HuggingFace Datasets文档: https://huggingface.co/docs/datasets\n",
    "- Transformers库文档: https://huggingface.co/docs/transformers\n",
    "- 相关论文和博客文章（见reasoning_datasets_guide.md）"
   ]
  }
 ],
 "metadata": {
  "kernelspec": {
   "display_name": "Python 3",
   "language": "python",
   "name": "python3"
  },
  "language_info": {
   "codemirror_mode": {
    "name": "ipython",
    "version": 3
   },
   "file_extension": ".py",
   "mimetype": "text/x-python",
   "name": "python",
   "nbconvert_exporter": "python",
   "pygments_lexer": "ipython3",
   "version": "3.8.0"
  }
 },
 "nbformat": 4,
 "nbformat_minor": 4
}
