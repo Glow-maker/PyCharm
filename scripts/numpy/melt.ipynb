{
 "cells": [
  {
   "cell_type": "code",
   "execution_count": 4,
   "id": "initial_id",
   "metadata": {
    "collapsed": true,
    "ExecuteTime": {
     "end_time": "2024-03-23T20:59:10.328928Z",
     "start_time": "2024-03-23T20:59:10.276868Z"
    }
   },
   "outputs": [
    {
     "name": "stdout",
     "output_type": "stream",
     "text": [
      "Python 3.10.14\n"
     ]
    }
   ],
   "source": [
    "!python --version"
   ]
  },
  {
   "cell_type": "code",
   "outputs": [],
   "source": [],
   "metadata": {
    "collapsed": false
   },
   "id": "a2741b3889c282c2"
  },
  {
   "cell_type": "code",
   "outputs": [],
   "source": [
    "import numpy as np\n",
    "import pandas as pd"
   ],
   "metadata": {
    "collapsed": false,
    "ExecuteTime": {
     "end_time": "2024-03-23T20:59:55.564138Z",
     "start_time": "2024-03-23T20:59:54.309524Z"
    }
   },
   "id": "168c66e374585881",
   "execution_count": 1
  },
  {
   "cell_type": "code",
   "outputs": [
    {
     "data": {
      "text/plain": "           A         B         C         D\n0  -0.928455  0.370829 -0.583066  0.213402\n1  -3.546428  1.192777  0.119928  0.187028\n2   0.084453  0.934045  0.334861 -0.907289\n3   0.462952  0.571113 -0.070370 -0.557302\n4   0.818863  0.650089 -0.333893  0.127357\n..       ...       ...       ...       ...\n95 -0.018338  0.821343 -0.228479 -0.652620\n96 -1.353710 -1.330691  1.077719  0.388477\n97  0.268744 -0.077211  1.184402 -0.937118\n98  0.134575  0.503954 -0.142462  1.927063\n99 -0.084952 -0.599732 -0.795776 -0.537222\n\n[100 rows x 4 columns]",
      "text/html": "<div>\n<style scoped>\n    .dataframe tbody tr th:only-of-type {\n        vertical-align: middle;\n    }\n\n    .dataframe tbody tr th {\n        vertical-align: top;\n    }\n\n    .dataframe thead th {\n        text-align: right;\n    }\n</style>\n<table border=\"1\" class=\"dataframe\">\n  <thead>\n    <tr style=\"text-align: right;\">\n      <th></th>\n      <th>A</th>\n      <th>B</th>\n      <th>C</th>\n      <th>D</th>\n    </tr>\n  </thead>\n  <tbody>\n    <tr>\n      <th>0</th>\n      <td>-0.928455</td>\n      <td>0.370829</td>\n      <td>-0.583066</td>\n      <td>0.213402</td>\n    </tr>\n    <tr>\n      <th>1</th>\n      <td>-3.546428</td>\n      <td>1.192777</td>\n      <td>0.119928</td>\n      <td>0.187028</td>\n    </tr>\n    <tr>\n      <th>2</th>\n      <td>0.084453</td>\n      <td>0.934045</td>\n      <td>0.334861</td>\n      <td>-0.907289</td>\n    </tr>\n    <tr>\n      <th>3</th>\n      <td>0.462952</td>\n      <td>0.571113</td>\n      <td>-0.070370</td>\n      <td>-0.557302</td>\n    </tr>\n    <tr>\n      <th>4</th>\n      <td>0.818863</td>\n      <td>0.650089</td>\n      <td>-0.333893</td>\n      <td>0.127357</td>\n    </tr>\n    <tr>\n      <th>...</th>\n      <td>...</td>\n      <td>...</td>\n      <td>...</td>\n      <td>...</td>\n    </tr>\n    <tr>\n      <th>95</th>\n      <td>-0.018338</td>\n      <td>0.821343</td>\n      <td>-0.228479</td>\n      <td>-0.652620</td>\n    </tr>\n    <tr>\n      <th>96</th>\n      <td>-1.353710</td>\n      <td>-1.330691</td>\n      <td>1.077719</td>\n      <td>0.388477</td>\n    </tr>\n    <tr>\n      <th>97</th>\n      <td>0.268744</td>\n      <td>-0.077211</td>\n      <td>1.184402</td>\n      <td>-0.937118</td>\n    </tr>\n    <tr>\n      <th>98</th>\n      <td>0.134575</td>\n      <td>0.503954</td>\n      <td>-0.142462</td>\n      <td>1.927063</td>\n    </tr>\n    <tr>\n      <th>99</th>\n      <td>-0.084952</td>\n      <td>-0.599732</td>\n      <td>-0.795776</td>\n      <td>-0.537222</td>\n    </tr>\n  </tbody>\n</table>\n<p>100 rows × 4 columns</p>\n</div>"
     },
     "execution_count": 2,
     "metadata": {},
     "output_type": "execute_result"
    }
   ],
   "source": [
    "data = pd.DataFrame(data = np.random.randn(100, 4), columns = list('ABCD'))\n",
    "data"
   ],
   "metadata": {
    "collapsed": false,
    "ExecuteTime": {
     "end_time": "2024-03-23T21:00:00.809250Z",
     "start_time": "2024-03-23T21:00:00.799522Z"
    }
   },
   "id": "d7e7e4f793e134c8",
   "execution_count": 2
  }
 ],
 "metadata": {
  "kernelspec": {
   "name": "python3",
   "language": "python",
   "display_name": "Python 3 (ipykernel)"
  },
  "language_info": {
   "codemirror_mode": {
    "name": "ipython",
    "version": 2
   },
   "file_extension": ".py",
   "mimetype": "text/x-python",
   "name": "python",
   "nbconvert_exporter": "python",
   "pygments_lexer": "ipython2",
   "version": "2.7.6"
  }
 },
 "nbformat": 4,
 "nbformat_minor": 5
}
