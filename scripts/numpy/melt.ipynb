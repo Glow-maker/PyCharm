{
 "cells": [
  {
   "cell_type": "code",
   "execution_count": 1,
   "id": "initial_id",
   "metadata": {
    "collapsed": true,
    "ExecuteTime": {
     "end_time": "2024-03-23T22:43:23.604491Z",
     "start_time": "2024-03-23T22:43:23.563392Z"
    }
   },
   "outputs": [
    {
     "name": "stdout",
     "output_type": "stream",
     "text": [
      "Python 3.10.14\n"
     ]
    }
   ],
   "source": [
    "!python --version"
   ]
  },
  {
   "cell_type": "code",
   "outputs": [],
   "source": [],
   "metadata": {
    "collapsed": false
   },
   "id": "a2741b3889c282c2"
  },
  {
   "cell_type": "code",
   "outputs": [],
   "source": [
    "import numpy as np\n",
    "import pandas as pd"
   ],
   "metadata": {
    "collapsed": false,
    "ExecuteTime": {
     "end_time": "2024-03-23T22:43:30.072339Z",
     "start_time": "2024-03-23T22:43:29.832782Z"
    }
   },
   "id": "168c66e374585881",
   "execution_count": 2
  },
  {
   "cell_type": "code",
   "outputs": [
    {
     "data": {
      "text/plain": "           A         B         C         D\n0  -1.601645 -0.097485 -1.175014 -0.788914\n1   1.018092 -0.759392 -0.919690 -0.144180\n2   1.191761 -1.352016  0.470361 -0.765736\n3  -0.918326 -0.432672  0.415497 -0.715854\n4   0.673829 -0.104246  0.636994  0.166313\n..       ...       ...       ...       ...\n95  1.392216  1.366588  1.254412 -1.225731\n96 -0.153785 -0.189558 -0.386150  0.948332\n97 -0.270293  1.265094  0.087641 -1.054478\n98 -1.618841  1.763349 -0.313238 -0.597834\n99  0.602180 -0.035251  0.521097 -0.636339\n\n[100 rows x 4 columns]",
      "text/html": "<div>\n<style scoped>\n    .dataframe tbody tr th:only-of-type {\n        vertical-align: middle;\n    }\n\n    .dataframe tbody tr th {\n        vertical-align: top;\n    }\n\n    .dataframe thead th {\n        text-align: right;\n    }\n</style>\n<table border=\"1\" class=\"dataframe\">\n  <thead>\n    <tr style=\"text-align: right;\">\n      <th></th>\n      <th>A</th>\n      <th>B</th>\n      <th>C</th>\n      <th>D</th>\n    </tr>\n  </thead>\n  <tbody>\n    <tr>\n      <th>0</th>\n      <td>-1.601645</td>\n      <td>-0.097485</td>\n      <td>-1.175014</td>\n      <td>-0.788914</td>\n    </tr>\n    <tr>\n      <th>1</th>\n      <td>1.018092</td>\n      <td>-0.759392</td>\n      <td>-0.919690</td>\n      <td>-0.144180</td>\n    </tr>\n    <tr>\n      <th>2</th>\n      <td>1.191761</td>\n      <td>-1.352016</td>\n      <td>0.470361</td>\n      <td>-0.765736</td>\n    </tr>\n    <tr>\n      <th>3</th>\n      <td>-0.918326</td>\n      <td>-0.432672</td>\n      <td>0.415497</td>\n      <td>-0.715854</td>\n    </tr>\n    <tr>\n      <th>4</th>\n      <td>0.673829</td>\n      <td>-0.104246</td>\n      <td>0.636994</td>\n      <td>0.166313</td>\n    </tr>\n    <tr>\n      <th>...</th>\n      <td>...</td>\n      <td>...</td>\n      <td>...</td>\n      <td>...</td>\n    </tr>\n    <tr>\n      <th>95</th>\n      <td>1.392216</td>\n      <td>1.366588</td>\n      <td>1.254412</td>\n      <td>-1.225731</td>\n    </tr>\n    <tr>\n      <th>96</th>\n      <td>-0.153785</td>\n      <td>-0.189558</td>\n      <td>-0.386150</td>\n      <td>0.948332</td>\n    </tr>\n    <tr>\n      <th>97</th>\n      <td>-0.270293</td>\n      <td>1.265094</td>\n      <td>0.087641</td>\n      <td>-1.054478</td>\n    </tr>\n    <tr>\n      <th>98</th>\n      <td>-1.618841</td>\n      <td>1.763349</td>\n      <td>-0.313238</td>\n      <td>-0.597834</td>\n    </tr>\n    <tr>\n      <th>99</th>\n      <td>0.602180</td>\n      <td>-0.035251</td>\n      <td>0.521097</td>\n      <td>-0.636339</td>\n    </tr>\n  </tbody>\n</table>\n<p>100 rows × 4 columns</p>\n</div>"
     },
     "execution_count": 3,
     "metadata": {},
     "output_type": "execute_result"
    }
   ],
   "source": [
    "data = pd.DataFrame(data = np.random.randn(100, 4), columns = list('ABCD'))\n",
    "data"
   ],
   "metadata": {
    "collapsed": false,
    "ExecuteTime": {
     "end_time": "2024-03-23T22:43:31.457434Z",
     "start_time": "2024-03-23T22:43:31.441464Z"
    }
   },
   "id": "d7e7e4f793e134c8",
   "execution_count": 3
  },
  {
   "cell_type": "code",
   "outputs": [],
   "source": [],
   "metadata": {
    "collapsed": false
   },
   "id": "38f2223415d83e7b"
  }
 ],
 "metadata": {
  "kernelspec": {
   "name": "python3",
   "language": "python",
   "display_name": "Python 3 (ipykernel)"
  },
  "language_info": {
   "codemirror_mode": {
    "name": "ipython",
    "version": 2
   },
   "file_extension": ".py",
   "mimetype": "text/x-python",
   "name": "python",
   "nbconvert_exporter": "python",
   "pygments_lexer": "ipython2",
   "version": "2.7.6"
  }
 },
 "nbformat": 4,
 "nbformat_minor": 5
}
